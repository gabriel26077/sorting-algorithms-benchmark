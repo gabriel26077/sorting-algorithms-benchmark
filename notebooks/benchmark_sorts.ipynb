{
 "cells": [
  {
   "cell_type": "code",
   "execution_count": 1,
   "id": "18484b47-6bd2-47a4-ad72-9a2781cf7259",
   "metadata": {},
   "outputs": [],
   "source": [
    "import sys\n",
    "import os\n",
    "\n",
    "# Adiciona o caminho da pasta raiz do projeto no sys.path para importar módulos\n",
    "sys.path.append(os.path.abspath('..'))"
   ]
  },
  {
   "cell_type": "code",
   "execution_count": 8,
   "id": "74f74721-a1d5-499d-8000-edbf1ab13b20",
   "metadata": {},
   "outputs": [],
   "source": [
    "from sorting_algorithms.selection_sort import selection_sort\n",
    "from sorting_algorithms.insertion_sort import insertion_sort\n",
    "from sorting_algorithms.bubble_sort import bubble_sort\n",
    "from sorting_algorithms.merge_sort import merge_sort\n",
    "from sorting_algorithms.quick_sort_no_random import quick_sort_no_random\n",
    "from sorting_algorithms.quick_sort_random import quick_sort_random\n",
    "from sorting_algorithms.counting_sort import counting_sort \n",
    "\n",
    "from utils.generate_arrays import generate_arrays\n",
    "from utils.measure_time import measure_time\n"
   ]
  },
  {
   "cell_type": "markdown",
   "id": "6e823939",
   "metadata": {},
   "source": [
    "#### Sizes"
   ]
  },
  {
   "cell_type": "code",
   "execution_count": 5,
   "id": "77f603d8",
   "metadata": {},
   "outputs": [],
   "source": [
    "small_sizes = [1_000, 5_000, 10_000]        # For slow algorithms\n",
    "large_sizes = [100_000, 1_000_000]          # For efficient algorithms only"
   ]
  },
  {
   "cell_type": "markdown",
   "id": "b4a2333b",
   "metadata": {},
   "source": [
    "#### Benchmark for slow algorithms"
   ]
  },
  {
   "cell_type": "code",
   "execution_count": 6,
   "id": "4c6cc1ca",
   "metadata": {},
   "outputs": [],
   "source": [
    "slow_algorithms = {\n",
    "    'Selection Sort': selection_sort,\n",
    "    'Insertion Sort': insertion_sort,\n",
    "    'Bubble Sort': bubble_sort\n",
    "}\n",
    "\n",
    "results_slow = {}\n",
    "\n",
    "for name, func in slow_algorithms.items():\n",
    "    times = []\n",
    "    for n in small_sizes:\n",
    "        array = generate_arrays(n)['random']\n",
    "        elapsed = measure_time(func, array.copy())\n",
    "        times.append(elapsed)\n",
    "    results_slow[name] = times\n"
   ]
  },
  {
   "cell_type": "markdown",
   "id": "6044b03d",
   "metadata": {},
   "source": [
    "#### Benchmark efficient algorithms"
   ]
  },
  {
   "cell_type": "code",
   "execution_count": 11,
   "id": "3dbeb7c7",
   "metadata": {},
   "outputs": [],
   "source": [
    "efficient_algorithms = {\n",
    "    'Merge Sort': merge_sort,\n",
    "    'Quick Sort (No Random)': quick_sort_no_random,\n",
    "    'Quick Sort (Random)': quick_sort_random,\n",
    "    'Counting Sort': counting_sort  # implement this function\n",
    "}\n",
    "\n",
    "results_efficient = {}\n",
    "\n",
    "for name, func in efficient_algorithms.items():\n",
    "    times = []\n",
    "    for n in large_sizes:\n",
    "        array = generate_arrays(n)['random']\n",
    "        elapsed = measure_time(func, array.copy())\n",
    "        times.append(elapsed)\n",
    "    results_efficient[name] = times\n"
   ]
  }
 ],
 "metadata": {
  "kernelspec": {
   "display_name": "venv",
   "language": "python",
   "name": "python3"
  },
  "language_info": {
   "codemirror_mode": {
    "name": "ipython",
    "version": 3
   },
   "file_extension": ".py",
   "mimetype": "text/x-python",
   "name": "python",
   "nbconvert_exporter": "python",
   "pygments_lexer": "ipython3",
   "version": "3.12.6"
  }
 },
 "nbformat": 4,
 "nbformat_minor": 5
}
